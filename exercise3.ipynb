{
  "nbformat": 4,
  "nbformat_minor": 0,
  "metadata": {
    "colab": {
      "provenance": [],
      "include_colab_link": true
    },
    "kernelspec": {
      "name": "python3",
      "display_name": "Python 3"
    },
    "language_info": {
      "name": "python"
    }
  },
  "cells": [
    {
      "cell_type": "markdown",
      "metadata": {
        "id": "view-in-github",
        "colab_type": "text"
      },
      "source": [
        "<a href=\"https://colab.research.google.com/github/maryantonopoulou/datastories_for_emme/blob/main/exercise3.ipynb\" target=\"_parent\"><img src=\"https://colab.research.google.com/assets/colab-badge.svg\" alt=\"Open In Colab\"/></a>"
      ]
    },
    {
      "cell_type": "markdown",
      "source": [
        "### Άσκηση 1\n",
        "\n",
        "Σ' αυτή την άσκηση θα φτιάξουμε μια λίστα στην οποία θα αποθηκεύουμε δίάφορα δεδομένα από άρθρα που δημοσιεύονται σε sites.\n",
        "\n",
        "Φτιάξτε ένα νέο κελί κώδικα (Code cell) ακριβώς κάτω από αυτό και κάνετε τα παρακάτω:\n",
        "\n",
        "- Δημιουργήστε μια κενή λίστα όπου θα αποθηκεύετε τα δεδομένα των άρθρων\n",
        "- Δημιουργήστε ένα λεξικό με τα στοιχεία του πρώτου άρθρου που θα συλλέξετε από ένα site: \"Τίτλος\", \"Ημερομηνία\", \"Κατηγορία\", \"url\"\n",
        "- Επαναλάβετε το 2 για ακόμα ένα άρθρο\n",
        "- Προσθέστε τα λεξικά στη λίστα.\n",
        "- Τυπώστε στην οθόνη τον τίτλο του 2ου άρθρου\n",
        "- Προσθέστε και στα 2 άρθρα μια εγγραφή με το όνομα του αντίστοιχου site που πήρατε το άρθρο\n",
        "- Τυπώστε στην οθόνη το πλήθος των λεξικών που έχει η λίστα.\n",
        "\n",
        "Tip:Δουλέψτε τμηματικά και ελέγχετε σε κάθε βήμα αυτό που κάνετε."
      ],
      "metadata": {
        "id": "PYkQAeYLq0d5"
      }
    },
    {
      "cell_type": "code",
      "execution_count": 17,
      "metadata": {
        "id": "_51_g4biqyte",
        "colab": {
          "base_uri": "https://localhost:8080/"
        },
        "outputId": "9269d528-f9e3-4d4e-9e87-d2bf74e753ce"
      },
      "outputs": [
        {
          "output_type": "stream",
          "name": "stdout",
          "text": [
            "Δίκη για το Μάτι: Σε φορτισμένο κλίμα η αγόρευση της εισαγγελέως\n",
            "2\n"
          ]
        }
      ],
      "source": [
        "articles=[]\n",
        "article1={\n",
        "    \"Τίτλος\":\"Θα εξαφανιστεί τελικά η Ευρωπαϊκή Ένωση;\",\n",
        "          \"Ημερομηνία\":\"2025-03-13\",\n",
        "          \"Κατηγορία\":\"Πολιτική\",\n",
        "          \"url\":\"https://itsestella.com/tha-exafanistei-telika-h-eurwpaiki-enwsi/\"}\n",
        "article2={\n",
        "    \"Τίτλος\":\"Δίκη για το Μάτι: Σε φορτισμένο κλίμα η αγόρευση της εισαγγελέως\",\n",
        "          \"Ημερομηνία\":\"2025-03-12\",\n",
        "          \"Κατηγορία\":\"Επικαιρότητα\",\n",
        "          \"url\":\"https://itsestella.com/diki-gia-to-mati-se-fortismeno-klima-i-agoreusi-tis-eisaggelews/\"}\n",
        "articles.append(article1)\n",
        "articles=[]\n",
        "article1={\n",
        "    \"Τίτλος\":\"Θα εξαφανιστεί τελικά η Ευρωπαϊκή Ένωση;\",\n",
        "          \"Ημερομηνία\":\"2025-03-13\",\n",
        "          \"Κατηγορία\":\"Πολιτική\",\n",
        "          \"url\":\"https://itsestella.com/tha-exafanistei-telika-h-eurwpaiki-enwsi/\"}\n",
        "article2={\n",
        "    \"Τίτλος\":\"Δίκη για το Μάτι: Σε φορτισμένο κλίμα η αγόρευση της εισαγγελέως\",\n",
        "          \"Ημερομηνία\":\"2025-03-12\",\n",
        "          \"Κατηγορία\":\"Επικαιρότητα\",\n",
        "          \"url\":\"https://itsestella.com/diki-gia-to-mati-se-fortismeno-klima-i-agoreusi-tis-eisaggelews/\"}\n",
        "articles.append(article1)\n",
        "articles.append(article2)\n",
        "print(articles[1][\"Τίτλος\"])\n",
        "article1[\"Site\"]=\"itsestella.com\"\n",
        "article2[\"Site\"]=\"itsestella.com\"\n",
        "print(len(articles))"
      ]
    },
    {
      "cell_type": "code",
      "source": [],
      "metadata": {
        "id": "7bUdqquMgliy"
      },
      "execution_count": null,
      "outputs": []
    },
    {
      "cell_type": "markdown",
      "source": [
        "\n",
        "\n",
        "---\n",
        "\n"
      ],
      "metadata": {
        "id": "5YTNrgMwvHQb"
      }
    },
    {
      "cell_type": "markdown",
      "source": [
        "### Άσκηση 2\n",
        "\n",
        "Η ακολουθία των αριθμών που δημιουργείται από το άθροισμα ενός αριθμού με τον προηγούμενό του λέγεται ακολουθία [Φιμπονάτσι](https://el.wikipedia.org/wiki/%CE%91%CE%BA%CE%BF%CE%BB%CE%BF%CF%85%CE%B8%CE%AF%CE%B1_%CE%A6%CE%B9%CE%BC%CF%80%CE%BF%CE%BD%CE%AC%CF%84%CF%83%CE%B9).\n",
        "\n",
        "Στο παρακάτω κελί και κάτω από τον υπάρχοντα κώδικα:\n",
        "\n",
        "- φτιάξτε μια for loop που θα τρέχει 22 φορές και\n",
        "- θα φτιάχνει μια μεταβλητή με όνομα c και τιμή το άθροισμα των a και b\n",
        "- θα τυπώνει την τιμή του c\n",
        "- θα αλλάζει την τιμή του a σε b και\n",
        "- θα αλλάζει την τιμή του b σε c\n",
        "- τρέξτε τον κώδικα"
      ],
      "metadata": {
        "id": "omSbKRDDyGb4"
      }
    },
    {
      "cell_type": "code",
      "source": [
        "a=0\n",
        "b=1\n",
        "for i in range(22):\n",
        "    c=a+b\n",
        "    print(c)\n",
        "    a,b=b,c\n",
        "a,b=b,c"
      ],
      "metadata": {
        "id": "EZVUpHre870A",
        "colab": {
          "base_uri": "https://localhost:8080/"
        },
        "outputId": "a1bd69bb-12b8-4008-ff2b-f2bbcc353fa3"
      },
      "execution_count": 19,
      "outputs": [
        {
          "output_type": "stream",
          "name": "stdout",
          "text": [
            "1\n",
            "2\n",
            "3\n",
            "5\n",
            "8\n",
            "13\n",
            "21\n",
            "34\n",
            "55\n",
            "89\n",
            "144\n",
            "233\n",
            "377\n",
            "610\n",
            "987\n",
            "1597\n",
            "2584\n",
            "4181\n",
            "6765\n",
            "10946\n",
            "17711\n",
            "28657\n"
          ]
        }
      ]
    },
    {
      "cell_type": "markdown",
      "source": [
        "\n",
        "\n",
        "---\n",
        "\n"
      ],
      "metadata": {
        "id": "DmjkxZGvzXy1"
      }
    },
    {
      "cell_type": "markdown",
      "source": [
        "### Άσκηση 3\n",
        "\n",
        "Φτιάξτε ένα νέο κελί κώδικα ακριβώς από κάτω και:\n",
        "\n",
        "- Φτιάξτε μια λίστα με όνομα titlesL και βάλτε μέσα τους τίτλους 3 αγαπημένων σας ταινιών\n",
        "- Φτιάξτε άλλη μια λίστα με όνομα ratingsL και βάλτε μέσα το βαθμό (από το 1 έως το 10) που θα βάζατε σε καθε μια από τις ταινίες\n",
        "- Φτιάξτε μια for loop που να τρέχει για όλα τα αντικείμενα της λίστας των ταινιών και να τυπώνει το όνομά της και το βαθμό της.\n",
        "\n",
        "Hints:\n",
        "Δεδομενου ότι οι δύο λίστες έχουν τον ίδιο αριθμό αντικειμένων και η σειρά των βαθμολογιών αντιστοιχεί στη σειρά των ταινιών, μπορείτε να χρησιμοποιήσετε τον αριθμό του index και την range() σε συνδυασμό με τη len().\n",
        "\n",
        "**Γράψτε σε comment τι κάνει η κάθε γραμμή του κώδικά σας.**\n"
      ],
      "metadata": {
        "id": "QOAgGYGWvJIp"
      }
    },
    {
      "cell_type": "code",
      "source": [],
      "metadata": {
        "id": "wxuW62Ly2z8q"
      },
      "execution_count": null,
      "outputs": []
    },
    {
      "cell_type": "markdown",
      "source": [
        "\n",
        "\n",
        "---\n",
        "\n"
      ],
      "metadata": {
        "id": "6kh_O0w5yEFw"
      }
    },
    {
      "cell_type": "markdown",
      "source": [
        "### Άσκηση 4\n",
        "\n",
        "Φτιάξτε ένα νέο κελί κώδικα ακριβώς από κάτω και:\n",
        "\n",
        "- Φτιάξτε μια λίστα με όνομα titlesL και βάλτε μέσα τους τίτλους 3 αγαπημένων σας ταινιών\n",
        "- Φτιάξτε άλλη μια λίστα με όνομα ratingsL και βάλτε μέσα το βαθμό (από το 1 έως το 10) που θα βάζατε σε καθε μια από τις ταινίες\n",
        "\n",
        "**Αν κάνατε την προηγούμενη άσκηση, χρησιμοποιήστε τις ήδη δημιουργημένες λίστες titlesL και ratingsL - δλδ μην φτιάξετε καινούριες λίστες για το ίδιο πράγμα**\n",
        "\n",
        "- Φτιάξτε μια κενή λίστα με όνομα moviesL\n",
        "\n",
        "Φτιάξτε μια for loop που να τρέχει για όλα τα indexes της λίστας των ταινιών και να κάνει τα παρακάτω:\n",
        "- δημιουργεί ένα κενό λεξικό με όνομα movieD\n",
        "- φτιάχνει ένα item στο λεξικό με όνομα κλειδιού \"title\" και τιμή τον τίτλο που αντιστοιχεί στο εκάστοτε index της λίστας titlesL\n",
        "- φτιάχνει ένα item στο λεξικό με όνομα κλειδιού \"rating\" και τιμή το rating που αντιστοιχεδί στο εκάστοτε index της λίστας ratingsL\n",
        "- προσθέτει το λεξικό στη λίστα moviesL\n",
        "\n",
        "Τέλος, τυπώστε τη λίστα moviesL.\n",
        "\n",
        "**Γράψτε σε comment τι κάνει η κάθε γραμμή του κώδικά σας.**\n"
      ],
      "metadata": {
        "id": "TjFqUapc0JMr"
      }
    },
    {
      "cell_type": "code",
      "source": [],
      "metadata": {
        "id": "gDcAB6eG8AbC"
      },
      "execution_count": null,
      "outputs": []
    }
  ]
}