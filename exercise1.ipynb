{
  "nbformat": 4,
  "nbformat_minor": 0,
  "metadata": {
    "colab": {
      "provenance": [],
      "include_colab_link": true
    },
    "kernelspec": {
      "name": "python3",
      "display_name": "Python 3"
    },
    "language_info": {
      "name": "python"
    }
  },
  "cells": [
    {
      "cell_type": "markdown",
      "metadata": {
        "id": "view-in-github",
        "colab_type": "text"
      },
      "source": [
        "<a href=\"https://colab.research.google.com/github/maryantonopoulou/datastories_for_emme/blob/main/exercise1.ipynb\" target=\"_parent\"><img src=\"https://colab.research.google.com/assets/colab-badge.svg\" alt=\"Open In Colab\"/></a>"
      ]
    },
    {
      "cell_type": "markdown",
      "source": [
        "Δημιουργήστε τις παρακάτω μεταβλητές:\n",
        "- όνομα\n",
        "- επώνυμο\n",
        "- αριθμός μητρώου\n",
        "- μάθημα 1\n",
        "- μάθημα 2\n",
        "- μάθημα 3\n",
        "- βαθμός μαθήματος 1\n",
        "- βαθμός μαθήματος 2\n",
        "- βαθμός μαθήματος 3\n",
        "\n",
        "Σε κάθε μεταβλητή δώστε την αντίστοιχη τιμή, με το σωστό τύπο δεδομένων (string, integer).\n",
        "\n",
        "Τυπώστε στην οθόνη (print) τις τιμές όλων των μεταβλητών που ορίσατε.\n",
        "\n",
        "**Hints**:\n",
        "- όπου η τιμή είναι αριθμός, σκεφτείτε αν θα χρησιμοποιήσετε stirng ή integer, ανάλογα με το αν χρειάζεται να κάνετε αργότερα αριθμητικές πράξεις\n",
        "- χρησιμοποιήστε ονόματα μεταβλητών που να έχουν νόημα\n",
        "- εάν γράψετε όλες τις εντολές σε ένα κελί, όταν φτάσετε στο τέλος στο σημείο να γράψετε την εντολή `print`, το colab θα σας προτείνει να γράψετε μέσα στις παρενθέσεις όλες τις μεταβλητές. Πατήστε `tab` για να αποδεχτείτε την πρόταση που σας κάνει."
      ],
      "metadata": {
        "id": "JZISjhuEQFOB"
      }
    },
    {
      "cell_type": "code",
      "execution_count": 6,
      "metadata": {
        "id": "cRnQhimEPhY0",
        "colab": {
          "base_uri": "https://localhost:8080/"
        },
        "outputId": "596c48e8-b77c-40d0-8507-ee64cfea55b7"
      },
      "outputs": [
        {
          "output_type": "stream",
          "name": "stdout",
          "text": [
            "Mαρία\n",
            "Αντωνοπούλου\n",
            "123456\n",
            "ΕΔΔΕ2\n",
            "ΕΔΔΕ3\n",
            "ΣΑΚΚ3\n",
            "8\n",
            "8\n",
            "9\n",
            "eponymo\n",
            "arithmos_mitroou\n",
            "mathima_1\n",
            "mathima_2\n",
            "mathima_3\n",
            "vathmos_mathimatos_1\n",
            "vathmos_mathimatos_2\n",
            "vathmos_mathimatos_3\n",
            "8.333333333333334\n",
            "8\n",
            "6.333333333333333\n"
          ]
        }
      ],
      "source": [
        "onoma = \"Mαρία\"         #string\n",
        "eponymo = \"Αντωνοπούλου\" #string\n",
        "arithmos_mitroou = \"123456\" #string\n",
        "mathima_1 = \"ΕΔΔΕ2\"      #string\n",
        "mathima_2 = \"ΕΔΔΕ3\" #string\n",
        "mathima_3 = \"ΣΑΚΚ3\" #string\n",
        "onoma = \"Mαρία\"         #string\n",
        "eponymo = \"Αντωνοπούλου\" #string\n",
        "arithmos_mitroou = \"123456\" #string\n",
        "mathima_1 = \"ΕΔΔΕ2\"      #string\n",
        "mathima_2 = \"ΕΔΔΕ3\" #string\n",
        "mathima_3 = \"ΣΑΚΚ3\" #string\n",
        "vathmos_mathimatos_1 = 8 #integer\n",
        "vathmos_mathimatos_2 = 8 #integer\n",
        "vathmos_mathimatos_3 = 9  #integer\n",
        "#εκτύπωση μεταβλητών\n",
        "print(onoma)\n",
        "print(eponymo)\n",
        "print(arithmos_mitroou)\n",
        "print(mathima_1)\n",
        "print(mathima_2)\n",
        "print(mathima_3)\n",
        "print(vathmos_mathimatos_1)\n",
        "print(vathmos_mathimatos_2)\n",
        "print(vathmos_mathimatos_3)\n",
        "print(\"eponymo\")\n",
        "print(\"arithmos_mitroou\")\n",
        "print(\"mathima_1\")\n",
        "print(\"mathima_2\")\n",
        "print(\"mathima_3\")\n",
        "print(\"vathmos_mathimatos_1\")\n",
        "print(\"vathmos_mathimatos_2\")\n",
        "print(\"vathmos_mathimatos_3\")\n",
        "\n",
        "# Υπολογισμός μέσου όρου\n",
        "mesos_oros = (vathmos_mathimatos_1 + vathmos_mathimatos_2 + vathmos_mathimatos_3) / 3\n",
        "print(mesos_oros)\n",
        "#Mετατροπή μέσου όρου σε ακέραιο αριθμό\n",
        "akeraios_mesos_oros=int(mesos_oros)\n",
        "print(akeraios_mesos_oros)\n",
        "#Aλλαγή των τιμών των μεταβλητών των μαθημάτων\n",
        "vathmos_mathimatos_1=6 #integer\n",
        "vathmos_mathimatos_2=7 #integer\n",
        "vathmos_mathimatos_3=6 #integer\n",
        "#Yπολογισμός μέσου όρου\n",
        "mesos_oros=(vathmos_mathimatos_1 +vathmos_mathimatos_2 +vathmos_mathimatos_3)/3\n",
        "print(mesos_oros)\n"
      ]
    },
    {
      "cell_type": "markdown",
      "source": [
        "Υπολογίστε το μέσο όρο των βαθμών των 3 μαθημάτων, αποθηκεύστε τον σε μια μεταβλητή και τυπώστε την τιμή της μεταβλητής του μέσου όρου στην οθόνη.\n",
        "\n",
        "**Hints**:\n",
        "- ο μέσος όρος υπολογίζεται με τη φόρμουλα: <άθροισμα επιμέρους τιμών> δια <πλήθος τιμών>\n",
        "- για τον υπολογισμό του μέσου όρου χρησιμοποιήστε τα ονόματα των μεταβλητών των επιμέρους τιμών και όχι τις τιμές τους"
      ],
      "metadata": {
        "id": "uPD0W-qcWcfV"
      }
    },
    {
      "cell_type": "code",
      "source": [
        "#Yπολογισμός μέσου όρου 3 μαθημάτων\n",
        "mesos_oros=(vathmos_mathimatos_1 +vathmos_mathimatos_2 +vathmos_mathimatos_3)/3\n",
        "print(mesos_oros)"
      ],
      "metadata": {
        "id": "Z0OnhXMURzMR",
        "colab": {
          "base_uri": "https://localhost:8080/",
          "height": 176
        },
        "outputId": "8307e02f-79d8-444c-c3ef-f84a7d84f329"
      },
      "execution_count": 2,
      "outputs": [
        {
          "output_type": "error",
          "ename": "NameError",
          "evalue": "name 'vathmos_mathimatos_1' is not defined",
          "traceback": [
            "\u001b[0;31m---------------------------------------------------------------------------\u001b[0m",
            "\u001b[0;31mNameError\u001b[0m                                 Traceback (most recent call last)",
            "\u001b[0;32m<ipython-input-2-4032d40fa147>\u001b[0m in \u001b[0;36m<cell line: 0>\u001b[0;34m()\u001b[0m\n\u001b[1;32m      1\u001b[0m \u001b[0;31m#Yπολογισμός μέσου όρου 3 μαθημάτων\u001b[0m\u001b[0;34m\u001b[0m\u001b[0;34m\u001b[0m\u001b[0m\n\u001b[0;32m----> 2\u001b[0;31m \u001b[0mmesos_oros\u001b[0m\u001b[0;34m=\u001b[0m\u001b[0;34m(\u001b[0m\u001b[0mvathmos_mathimatos_1\u001b[0m\u001b[0;34m+\u001b[0m\u001b[0mvathmos_mathimatos_2\u001b[0m\u001b[0;34m+\u001b[0m\u001b[0mvathmos_mathimatos_3\u001b[0m\u001b[0;34m)\u001b[0m\u001b[0;34m/\u001b[0m\u001b[0;36m3\u001b[0m\u001b[0;34m\u001b[0m\u001b[0;34m\u001b[0m\u001b[0m\n\u001b[0m\u001b[1;32m      3\u001b[0m \u001b[0mprint\u001b[0m\u001b[0;34m(\u001b[0m\u001b[0mmesos_oros\u001b[0m\u001b[0;34m)\u001b[0m\u001b[0;34m\u001b[0m\u001b[0;34m\u001b[0m\u001b[0m\n",
            "\u001b[0;31mNameError\u001b[0m: name 'vathmos_mathimatos_1' is not defined"
          ]
        }
      ]
    },
    {
      "cell_type": "markdown",
      "source": [
        "Τυπώστε στην οθόνη την τιμή του μέσου όρου και τον τύπο δεδομένων της μεταβλητής του μέσου όρου."
      ],
      "metadata": {
        "id": "3lDi2k3iYoWe"
      }
    },
    {
      "cell_type": "code",
      "source": [],
      "metadata": {
        "id": "ET5xvgxTZAJb"
      },
      "execution_count": null,
      "outputs": []
    },
    {
      "cell_type": "markdown",
      "source": [
        "Μετατρέψτε το μέσο όρο σε ακέραιο (integer) και τυπώστε το αποτέλεσμα στην οθόνη."
      ],
      "metadata": {
        "id": "y-QK_9DmZHAF"
      }
    },
    {
      "cell_type": "code",
      "source": [],
      "metadata": {
        "id": "VV13wQMoR69T"
      },
      "execution_count": null,
      "outputs": []
    },
    {
      "cell_type": "markdown",
      "source": [
        "Αλλάξτε τις τιμές των μεταβλητών των βαθμών των μαθημάτων και ξαναϋπολογίστε τον μέσο όρο."
      ],
      "metadata": {
        "id": "2UZvmxOPayZM"
      }
    },
    {
      "cell_type": "code",
      "source": [],
      "metadata": {
        "id": "Pt7S8erXeasx"
      },
      "execution_count": null,
      "outputs": []
    },
    {
      "cell_type": "markdown",
      "source": [
        "Δημιουργήστε ένα νέο κελί κώδικα.\n",
        "\n",
        "Μέσα στο κελί γράφει: Start coding or generate with AI. Πατήστε τη λέξη generate.\n",
        "\n",
        "Στο κελί Generate που εμφανίζεται γράψτε ένα prompt με το οποίο να του ζητάτε να αλλάξει τη μεταβλητή grade1 σε 5 και να ξαναϋπολογίσει τον μέσο όρο."
      ],
      "metadata": {
        "id": "1dhIvNXCecFf"
      }
    },
    {
      "cell_type": "code",
      "source": [
        "# prompt: vathmos_mathimatos_1=5\n",
        "\n",
        "vathmos_mathimatos_1 = 5  # Altering the value of vathmos_mathimatos_1\n",
        "\n",
        "# Recalculate the average\n",
        "mesos_oros = (vathmos_mathimatos_1 + vathmos_mathimatos_2 + vathmos_mathimatos_3) / 3\n",
        "mesos_oros\n"
      ],
      "metadata": {
        "id": "9yTveSV_bLbV",
        "colab": {
          "base_uri": "https://localhost:8080/"
        },
        "outputId": "384fa370-01f6-44cb-b9a4-89bb6ca54028"
      },
      "execution_count": 7,
      "outputs": [
        {
          "output_type": "execute_result",
          "data": {
            "text/plain": [
              "6.0"
            ]
          },
          "metadata": {},
          "execution_count": 7
        }
      ]
    }
  ]
}